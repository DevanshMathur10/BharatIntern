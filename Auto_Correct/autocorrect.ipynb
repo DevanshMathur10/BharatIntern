{
 "cells": [
  {
   "cell_type": "code",
   "execution_count": 3,
   "metadata": {},
   "outputs": [],
   "source": [
    "import nltk\n",
    "# nltk.download('all')"
   ]
  },
  {
   "cell_type": "code",
   "execution_count": 4,
   "metadata": {},
   "outputs": [],
   "source": [
    "import re\n",
    "\n",
    "words=[]\n",
    "with open(\"final.txt\",'r', encoding=\"utf8\") as f:\n",
    "    file_data=f.read()\n",
    "    file_data=file_data.lower()\n",
    "    words=re.findall('\\w+',file_data) \n",
    "\n",
    "main_set = set(words)"
   ]
  },
  {
   "cell_type": "code",
   "execution_count": 5,
   "metadata": {},
   "outputs": [],
   "source": [
    "def counting(words):\n",
    "    word_count = {}\n",
    "    for word in words:\n",
    "        if word in word_count:\n",
    "            word_count[word] += 1\n",
    "        else:\n",
    "            word_count[word] = 1\n",
    "    return word_count"
   ]
  },
  {
   "cell_type": "code",
   "execution_count": 6,
   "metadata": {},
   "outputs": [],
   "source": [
    "def prob_cal(word_count_dict):\n",
    "    probs = {}\n",
    "    m = sum(word_count_dict.values())\n",
    "    for key in word_count_dict.keys():\n",
    "        probs[key] = word_count_dict[key] / m\n",
    "    return probs"
   ]
  },
  {
   "cell_type": "code",
   "execution_count": 7,
   "metadata": {},
   "outputs": [],
   "source": [
    "# LemmWord: extracting and adding\n",
    "# root word i.e.Lemma using pattern module\n",
    "import pattern\n",
    "from pattern.en import lemma, lexeme\n",
    "from nltk.stem import WordNetLemmatizer\n",
    " \n",
    " \n",
    "def LemmWord(word):\n",
    "    return list(lexeme(wd) for wd in word.split())[0]"
   ]
  },
  {
   "cell_type": "code",
   "execution_count": 8,
   "metadata": {},
   "outputs": [],
   "source": [
    "def DeleteLetter(word):\n",
    "    delete_list = []\n",
    "    split_list = []\n",
    " \n",
    "    # considering letters 0 to i then i to -1\n",
    "    # Leaving the ith letter\n",
    "    for i in range(len(word)):\n",
    "        split_list.append((word[0:i], word[i:]))\n",
    " \n",
    "    for a, b in split_list:\n",
    "        delete_list.append(a + b[1:])\n",
    "    return delete_list"
   ]
  },
  {
   "cell_type": "code",
   "execution_count": 9,
   "metadata": {},
   "outputs": [],
   "source": [
    "def Switch_(word):\n",
    "    split_list = []\n",
    "    switch_l = []\n",
    " \n",
    "    #creating pair of the words(and breaking them)\n",
    "    for i in range(len(word)):\n",
    "        split_list.append((word[0:i], word[i:]))\n",
    "     \n",
    "    #Printint the first word (i.e. a)\n",
    "    #then replacing the first and second character of b\n",
    "    switch_l = [a + b[1] + b[0] + b[2:] for a, b in split_list if len(b) >= 2]\n",
    "    return switch_l"
   ]
  },
  {
   "cell_type": "code",
   "execution_count": 10,
   "metadata": {},
   "outputs": [],
   "source": [
    "def Replace_(word):\n",
    "    split_l = []\n",
    "    replace_list = []\n",
    " \n",
    "    # Replacing the letter one-by-one from the list of alphs\n",
    "    for i in range(len(word)):\n",
    "        split_l.append((word[0:i], word[i:]))\n",
    "    alphs = 'abcdefghijklmnopqrstuvwxyz'\n",
    "    replace_list = [a + l + (b[1:] if len(b) > 1 else '')\n",
    "                    for a, b in split_l if b for l in alphs]\n",
    "    return replace_list"
   ]
  },
  {
   "cell_type": "code",
   "execution_count": 11,
   "metadata": {},
   "outputs": [],
   "source": [
    "def insert_(word):\n",
    "    split_l = []\n",
    "    insert_list = []\n",
    " \n",
    "    # Making pairs of the split words\n",
    "    for i in range(len(word) + 1):\n",
    "        split_l.append((word[0:i], word[i:]))\n",
    " \n",
    "    # Storing new words in a list\n",
    "    # But one new character at each location\n",
    "    alphs = 'abcdefghijklmnopqrstuvwxyz'\n",
    "    insert_list = [a + l + b for a, b in split_l for l in alphs]\n",
    "    return insert_list"
   ]
  },
  {
   "cell_type": "code",
   "execution_count": 12,
   "metadata": {},
   "outputs": [],
   "source": [
    "# Collecting all the words\n",
    "# in a set(so that no word will repeat)\n",
    "def colab_1(word, allow_switches=True):\n",
    "    colab_1 = set()\n",
    "    colab_1.update(DeleteLetter(word))\n",
    "    if allow_switches:\n",
    "        colab_1.update(Switch_(word))\n",
    "    colab_1.update(Replace_(word))\n",
    "    colab_1.update(insert_(word))\n",
    "    return colab_1\n",
    " \n",
    "# collecting words using by allowing switches\n",
    "def colab_2(word, allow_switches=True):\n",
    "    colab_2 = set()\n",
    "    edit_one = colab_1(word, allow_switches=allow_switches)\n",
    "    for w in edit_one:\n",
    "        if w:\n",
    "            edit_two = colab_1(w, allow_switches=allow_switches)\n",
    "            colab_2.update(edit_two)\n",
    "    return colab_2"
   ]
  },
  {
   "cell_type": "code",
   "execution_count": 13,
   "metadata": {},
   "outputs": [],
   "source": [
    "def get_corrections(word, probs, vocab, n=2):\n",
    "    suggested_word = []\n",
    "    best_suggestion = []\n",
    "    suggested_word = list(\n",
    "        (word in vocab and word) or colab_1(word).intersection(vocab)\n",
    "        or colab_2(word).intersection(\n",
    "            vocab))\n",
    " \n",
    "    # finding out the words with high frequencies\n",
    "    best_suggestion = [[s, probs[s]] for s in list(reversed(suggested_word))]\n",
    "    return best_suggestion"
   ]
  },
  {
   "cell_type": "code",
   "execution_count": 81,
   "metadata": {},
   "outputs": [
    {
     "name": "stdout",
     "output_type": "stream",
     "text": [
      "The top 3 predictions for \"plateu\" are:\n",
      "\n",
      "1. plate\n",
      "2. plated\n",
      "3. plateau\n"
     ]
    }
   ],
   "source": [
    "my_word = input(\"Enter any word:\")\n",
    " \n",
    "# Counting word function\n",
    "word_count = counting(main_set)\n",
    " \n",
    "# Calculating probability\n",
    "probs = prob_cal(word_count)\n",
    " \n",
    "# only storing correct words\n",
    "tmp_corrections = get_corrections(my_word, probs, main_set, 2)\n",
    "\n",
    "print(f\"The top 3 predictions for \\\"{my_word}\\\" are:\\n\")\n",
    "for i, word_prob in enumerate(tmp_corrections):\n",
    "    if(i < 3):\n",
    "        print(f\"{i+1}. {word_prob[0]}\")\n",
    "    else:\n",
    "        break"
   ]
  },
  {
   "cell_type": "code",
   "execution_count": 80,
   "metadata": {},
   "outputs": [],
   "source": [
    "# my_sentence=[i for i in input().split()]\n",
    "# corrected_sentences=[\"\",\"\",\"\"]\n",
    "# for i in range(len(my_sentence)):\n",
    "#     word_count = counting(main_set)\n",
    "#     probs = prob_cal(word_count)\n",
    "#     tmp_corrections = get_corrections(my_sentence[i], probs, main_set, 2)\n",
    "#     print(tmp_corrections)\n",
    "#     for num,j in enumerate(tmp_corrections[:2]):\n",
    "#         corrected_sentences[i+num]+=j[0]\n",
    "\n",
    "# print(corrected_sentences)"
   ]
  },
  {
   "cell_type": "code",
   "execution_count": null,
   "metadata": {},
   "outputs": [],
   "source": []
  }
 ],
 "metadata": {
  "kernelspec": {
   "display_name": "Python 3",
   "language": "python",
   "name": "python3"
  },
  "language_info": {
   "codemirror_mode": {
    "name": "ipython",
    "version": 3
   },
   "file_extension": ".py",
   "mimetype": "text/x-python",
   "name": "python",
   "nbconvert_exporter": "python",
   "pygments_lexer": "ipython3",
   "version": "3.10.2"
  },
  "orig_nbformat": 4
 },
 "nbformat": 4,
 "nbformat_minor": 2
}
